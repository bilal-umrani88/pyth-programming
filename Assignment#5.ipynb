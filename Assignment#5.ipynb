{
 "cells": [
  {
   "cell_type": "code",
   "execution_count": 5,
   "metadata": {},
   "outputs": [
    {
     "name": "stdout",
     "output_type": "stream",
     "text": [
      "Enter any semtence:Pakistan is our Homeland\n",
      "Number of Lower Case letters: 22\n",
      "Number of Upper Case letters: 2\n"
     ]
    }
   ],
   "source": [
    "def case(a):\n",
    " u_c=0\n",
    " l_c=0\n",
    " for i in a:\n",
    "    if i.isupper():\n",
    "     u_c+=1\n",
    "    else:\n",
    "      l_c+=1\n",
    "      \n",
    " print(\"Number of Lower Case letters:\",l_c)\n",
    " print(\"Number of Upper Case letters:\",u_c)     \n",
    "str=input(\"Enter any semtence:\")\n",
    "case(str)"
   ]
  },
  {
   "cell_type": "markdown",
   "metadata": {},
   "source": [
    "i=2\n",
    "while i not in range(2):\n",
    " def prime(a):\n",
    "  if a>1:\n",
    "   for i in range(2,a):\n",
    "    if(a%i)==0:\n",
    "      \n",
    "      print(a,\" is not a Prime Number.\")\n",
    "      break\n",
    "   else:\n",
    "      print(a,\" is a Prime Number.\")\n",
    "  else:\n",
    "   print(a,\"is not a Prime Number.\")     \n",
    " num=int(input(\"Enter any Number\"))\n",
    " prime(num)"
   ]
  },
  {
   "cell_type": "code",
   "execution_count": 1,
   "metadata": {},
   "outputs": [
    {
     "name": "stdout",
     "output_type": "stream",
     "text": [
      "Enter any Number:5\n",
      "Factorial of 5 is: 120\n"
     ]
    }
   ],
   "source": [
    "def fac(n):\n",
    "  fact=1\n",
    "  for i in range(1,n+1):\n",
    "    fact=fact*i\n",
    "  return fact \n",
    "num=int(input(\"Enter any Number:\"))\n",
    "print(\"Factorial of \"+str(num)+\" is:\",fac(num))"
   ]
  },
  {
   "cell_type": "code",
   "execution_count": 6,
   "metadata": {},
   "outputs": [
    {
     "name": "stdout",
     "output_type": "stream",
     "text": [
      "Even Numbers are: [2, 4, 6, 22, 8, 10]\n",
      "None\n"
     ]
    }
   ],
   "source": [
    "def list(a):\n",
    " even=[]\n",
    " for i in a:\n",
    "    if(i%2==0):\n",
    "      even.append(i)\n",
    " print(\"Even Numbers are:\",even)\n",
    "  \n",
    "b=[1,2,3,4,5,6,22,8,9,10]     \n",
    "print (list(b))"
   ]
  },
  {
   "cell_type": "code",
   "execution_count": null,
   "metadata": {},
   "outputs": [
    {
     "name": "stdout",
     "output_type": "stream",
     "text": [
      "Enter any wordahsan\n",
      "Orignal: ahsan\n",
      "Reversed: nasha\n",
      "Is not a Palindrome\n",
      "Enter any wordtalat\n",
      "Orignal: talat\n",
      "Reversed: talat\n",
      "Is a Palindrome\n"
     ]
    }
   ],
   "source": [
    "i=2\n",
    "while i not in range(2):\n",
    " def palindrome(string):\n",
    "  print(\"Orignal:\",string)\n",
    "  str=\"\"\n",
    "  for i in string:\n",
    "   str=i+str\n",
    "  print(\"Reversed:\",str)\n",
    "  if(string==str):\n",
    "   print(\"Is a Palindrome\")\n",
    "  else:\n",
    "   print(\"Is not a Palindrome\")\n",
    " string=input(\"Enter any word\")\n",
    " palindrome(string)"
   ]
  },
  {
   "cell_type": "code",
   "execution_count": 1,
   "metadata": {},
   "outputs": [
    {
     "name": "stdout",
     "output_type": "stream",
     "text": [
      " You Slected Vegetables\n",
      " You Slected Fruits\n",
      " You Slected Stationary\n"
     ]
    }
   ],
   "source": [
    "def shoping(*items):\n",
    "    for item in items:\n",
    "        print(\" You Slected\",item)\n",
    "        \n",
    "shoping('Vegetables','Fruits','Stationary')"
   ]
  },
  {
   "cell_type": "code",
   "execution_count": null,
   "metadata": {},
   "outputs": [],
   "source": []
  }
 ],
 "metadata": {
  "kernelspec": {
   "display_name": "Python 3",
   "language": "python",
   "name": "python3"
  },
  "language_info": {
   "codemirror_mode": {
    "name": "ipython",
    "version": 3
   },
   "file_extension": ".py",
   "mimetype": "text/x-python",
   "name": "python",
   "nbconvert_exporter": "python",
   "pygments_lexer": "ipython3",
   "version": "3.7.4"
  }
 },
 "nbformat": 4,
 "nbformat_minor": 2
}
