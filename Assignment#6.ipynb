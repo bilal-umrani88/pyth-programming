{
 "cells": [
  {
   "cell_type": "code",
   "execution_count": 1,
   "metadata": {},
   "outputs": [
    {
     "name": "stdout",
     "output_type": "stream",
     "text": [
      "this car name is :  Corolla\n",
      "Suzuki\n",
      "Xayz-212\n"
     ]
    }
   ],
   "source": [
    "class Car:\n",
    "    def __init__(self,model,color,name,company,number):\n",
    "        self.model=model\n",
    "        self.color=color\n",
    "        self.name=name\n",
    "        self.company=company\n",
    "        self.number=number\n",
    "        \n",
    "    def print_name(self):\n",
    "        print(\"this car name is : \",self.name)\n",
    "            \n",
    "    def print_UPdatecompany(self):\n",
    "        self.company=\"Suzuki\"\n",
    "        print(self.company)\n",
    "            \n",
    "    def print_number(self):\n",
    "        print(self.number)\n",
    "            \n",
    "car1=Car('2019','Black','Corolla','Toyota','Abx-2132')\n",
    "car2=Car('2018','white','VIGO','Toyota','Xayz-212')\n",
    "car3=Car('2017','Red','land Cruiser','Toyota','cda-132')\n",
    "car4=Car('2016','Blue','Civic','Honda','zzw-32')\n",
    "car5=Car('2015','mate Black','City','Honda','Ax-22')\n",
    "\n",
    "\n",
    "\n",
    "car1.print_name()\n",
    "car2.print_UPdatecompany()\n",
    "car2.print_number()"
   ]
  },
  {
   "cell_type": "code",
   "execution_count": 7,
   "metadata": {},
   "outputs": [
    {
     "name": "stdout",
     "output_type": "stream",
     "text": [
      "OOP:\n",
      "Object-oriented programming (OOP) is a programming language model in which programs are organized around data, or objects, rather than functions and logic. An object can be defined as a data field that has unique attributes and behavior. Examples of an object can range from physical entities, such as a human being that is described by properties like name and address, down to small computer programs, such as widgets\n",
      "\n"
     ]
    }
   ],
   "source": [
    "print(\"OOP:\\n\"+'''Object-oriented programming (OOP) is a programming language model in which programs are organized around data, or objects, rather than functions and logic. An object can be defined as a data field that has unique attributes and behavior. Examples of an object can range from physical entities, such as a human being that is described by properties like name and address, down to small computer programs, such as widgets\n",
    "''')"
   ]
  },
  {
   "cell_type": "code",
   "execution_count": 8,
   "metadata": {},
   "outputs": [
    {
     "name": "stdout",
     "output_type": "stream",
     "text": [
      "Benefits of Object Oriented Programming Language\n",
      " \n",
      "•\tThe programmes written with OOP are really easy to understand.\n",
      "•\tSince everything is treated as objects, so we can model a real-world concept using OOP.\n",
      "•\tOOP approach offers the reusability of classes. We can reuse the classes that are already created without writing them again and again.\n",
      "•\tSince the parallel development of classes is possible in OOP concept, It results in the quick development of the complete programmes.\n",
      "•\tProgrammes written in OOP technique are marginally easier to test, manage as well as maintain.\n",
      "•\tIt is a secured development technique since data is hidden and can’t be accessed by external functions.\n",
      "\n"
     ]
    }
   ],
   "source": [
    "print(\"Benefits of Object Oriented Programming Language\\n\"''' \n",
    "•\tThe programmes written with OOP are really easy to understand.\n",
    "•\tSince everything is treated as objects, so we can model a real-world concept using OOP.\n",
    "•\tOOP approach offers the reusability of classes. We can reuse the classes that are already created without writing them again and again.\n",
    "•\tSince the parallel development of classes is possible in OOP concept, It results in the quick development of the complete programmes.\n",
    "•\tProgrammes written in OOP technique are marginally easier to test, manage as well as maintain.\n",
    "•\tIt is a secured development technique since data is hidden and can’t be accessed by external functions.\n",
    "''')"
   ]
  },
  {
   "cell_type": "code",
   "execution_count": 9,
   "metadata": {},
   "outputs": [
    {
     "name": "stdout",
     "output_type": "stream",
     "text": [
      "Funtion\n",
      "if we have to use a task again and again we write that task in a function and call it when we need it.\n",
      "    we can pass arguments when calling a funtion if it takes parameters .\n",
      "    in function you have to pass class attributes as parameters else you can use them in function. \n",
      "Method\n",
      "\n",
      "Methods are same as functions there are very few differece in methods and functions which are:\n",
      "    1) methods are written in the scope of class\n",
      "    2) methods take \"self\" as first parameter , then you know that its a method\n",
      "    3) self in method takes all the attributes which are defined in class and u can use the attributes \n",
      "    in method using self keyword .\n",
      "    \n"
     ]
    }
   ],
   "source": [
    "print('Funtion')\n",
    "print('''if we have to use a task again and again we write that task in a function and call it when we need it.\n",
    "    we can pass arguments when calling a funtion if it takes parameters .\n",
    "    in function you have to pass class attributes as parameters else you can use them in function. ''')\n",
    "print('Method')\n",
    "print('''\n",
    "Methods are same as functions there are very few differece in methods and functions which are:\n",
    "    1) methods are written in the scope of class\n",
    "    2) methods take \"self\" as first parameter , then you know that its a method\n",
    "    3) self in method takes all the attributes which are defined in class and u can use the attributes \n",
    "    in method using self keyword .\n",
    "    ''')"
   ]
  },
  {
   "cell_type": "code",
   "execution_count": 11,
   "metadata": {},
   "outputs": [
    {
     "name": "stdout",
     "output_type": "stream",
     "text": [
      "Class\n",
      "The user-defined objects are created using the class keyword. The class is a blueprint that defines a nature of a future object. An instance is a specific object created from a particular class. Classes are used to create and manage new objects and support inheritance—a key ingredient in object-oriented programming and a mechanism of reusing code.\n",
      "Object\n",
      "In object-oriented programming (OOP), objects are the things you think about first in designing a program and they are also the units of code that are eventually derived from the process. In between, each object is made into a generic class of object and even more generic classes are defined so that objects can share models and reuse the class definitions in their code. Each object is an instance of a particular class or subclass with the class's own methods or procedures and data variables. \n",
      "Attribute\n",
      "In Object-oriented programming(OOP), classes and objects have attributes. Attributes are data stored inside a class or instance and represent the state or quality of the class or instance. In short, attributes store information about the instance.\n",
      "Behavior\n",
      "A class's behavior determines how an instance of that class operates; for example, how it will \"react\" if asked to do something by another class or object or if its internal state changes. Behavior is the only way objects can do anything to themselves or have anything done to them.\n",
      "\n"
     ]
    }
   ],
   "source": [
    "print(\"Class\\n\"\n",
    "'''The user-defined objects are created using the class keyword. The class is a blueprint that defines a nature of a future object. An instance is a specific object created from a particular class. Classes are used to create and manage new objects and support inheritance—a key ingredient in object-oriented programming and a mechanism of reusing code.'''\n",
    "+\"\\nObject\\n\"\n",
    "'''In object-oriented programming (OOP), objects are the things you think about first in designing a program and they are also the units of code that are eventually derived from the process. In between, each object is made into a generic class of object and even more generic classes are defined so that objects can share models and reuse the class definitions in their code. Each object is an instance of a particular class or subclass with the class's own methods or procedures and data variables. \n",
    "Attribute\n",
    "In Object-oriented programming(OOP), classes and objects have attributes. Attributes are data stored inside a class or instance and represent the state or quality of the class or instance. In short, attributes store information about the instance.\n",
    "Behavior\n",
    "A class's behavior determines how an instance of that class operates; for example, how it will \"react\" if asked to do something by another class or object or if its internal state changes. Behavior is the only way objects can do anything to themselves or have anything done to them.\n",
    "''')"
   ]
  },
  {
   "cell_type": "code",
   "execution_count": null,
   "metadata": {},
   "outputs": [],
   "source": []
  }
 ],
 "metadata": {
  "kernelspec": {
   "display_name": "Python 3",
   "language": "python",
   "name": "python3"
  },
  "language_info": {
   "codemirror_mode": {
    "name": "ipython",
    "version": 3
   },
   "file_extension": ".py",
   "mimetype": "text/x-python",
   "name": "python",
   "nbconvert_exporter": "python",
   "pygments_lexer": "ipython3",
   "version": "3.7.4"
  }
 },
 "nbformat": 4,
 "nbformat_minor": 4
}
